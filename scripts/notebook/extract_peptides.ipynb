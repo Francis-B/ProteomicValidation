{
 "cells": [
  {
   "cell_type": "code",
   "execution_count": 3,
   "metadata": {},
   "outputs": [],
   "source": [
    "import pickle as pkl\n",
    "import re\n",
    "from collections import defaultdict\n",
    "\n",
    "import pandas as pd\n",
    "import numpy as np\n",
    "import pyopenms"
   ]
  },
  {
   "cell_type": "markdown",
   "metadata": {},
   "source": []
  },
  {
   "cell_type": "code",
   "execution_count": 22,
   "metadata": {},
   "outputs": [],
   "source": [
    "POOLED_REPORT = '/home/francis/Documents/FomoNet/results/DIA-NN/pooled_report.tsv'\n",
    "OUT_PEPTIDES = '/home/francis/Documents/FomoNet/results/fomonet_peptides.txt'\n",
    "FOMONET_ID = '/home/francis/Documents/FomoNet/results/fomonet_id.pkl'\n",
    "    \n",
    "with open(POOLED_REPORT, 'r') as f:\n",
    "    cols = ['Run', 'Protein.Names', 'MS2.Scan', 'Stripped.Sequence',\n",
    "            'RT.Start', 'RT.Stop', 'Ms1.Profile.Corr', 'Proteotypic']\n",
    "    pooled = pd.read_csv(f, sep='\\t', usecols=cols)\n",
    "\n",
    "with open(FOMONET_ID, 'rb') as f:\n",
    "    fomonet_id = pkl.load(f)"
   ]
  },
  {
   "cell_type": "code",
   "execution_count": 23,
   "metadata": {},
   "outputs": [],
   "source": [
    "# Filter out line with \n",
    "pooled = pooled[pooled['Protein.Names'].isin(fomonet_id)]"
   ]
  },
  {
   "cell_type": "code",
   "execution_count": 17,
   "metadata": {},
   "outputs": [
    {
     "data": {
      "text/plain": [
       "True"
      ]
     },
     "execution_count": 17,
     "metadata": {},
     "output_type": "execute_result"
    }
   ],
   "source": [
    "# QC: does all fomonet_id have peptides in pooled?\n",
    "pooled['Protein.Names'].unique().shape == np.unique(fomonet_id).shape"
   ]
  },
  {
   "cell_type": "code",
   "execution_count": 18,
   "metadata": {},
   "outputs": [
    {
     "data": {
      "text/plain": [
       "Index(['Run', 'Protein.Names', 'Stripped.Sequence', 'RT.Start', 'RT.Stop',\n",
       "       'Ms1.Profile.Corr', 'MS2.Scan'],\n",
       "      dtype='object')"
      ]
     },
     "execution_count": 18,
     "metadata": {},
     "output_type": "execute_result"
    }
   ],
   "source": [
    "pooled.columns"
   ]
  },
  {
   "cell_type": "code",
   "execution_count": 19,
   "metadata": {},
   "outputs": [],
   "source": [
    "res = {prot: defaultdict(lambda: defaultdict(lambda: defaultdict(str)) )\n",
    "       for prot in pooled['Protein.Names'].unique()}\n",
    "for _, row in pooled.iterrows():\n",
    "    run, pg, pep, rt_start, rt_stop, corr, ms_scan = row\n",
    "    res[pg][pep][run]['corr'] = corr      # MS1 profile correlation\n",
    "    res[pg][pep][run]['peak_scan'] = ms_scan     # MS2 scan number during precursor peak intensity\n",
    "    res[pg][pep][run]['rt'] = tuple([rt_start, rt_stop])"
   ]
  },
  {
   "cell_type": "code",
   "execution_count": 20,
   "metadata": {},
   "outputs": [
    {
     "data": {
      "text/plain": [
       "defaultdict(<function __main__.<dictcomp>.<lambda>()>,\n",
       "            {'LLCGLLAER': defaultdict(<function __main__.<dictcomp>.<lambda>.<locals>.<lambda>()>,\n",
       "                         {'COVARIS_50_ctr_1': defaultdict(str,\n",
       "                                      {'corr': 0.994064033,\n",
       "                                       'peak_scan': 44360,\n",
       "                                       'rt': (31.97261238, 32.1937294)}),\n",
       "                          'COVARIS_50_ctr_2': defaultdict(str,\n",
       "                                      {'corr': 0.9937808514,\n",
       "                                       'peak_scan': 43910,\n",
       "                                       'rt': (31.61799812, 31.83340645)}),\n",
       "                          'COVARIS_50_ctr_3': defaultdict(str,\n",
       "                                      {'corr': 0.9971487522,\n",
       "                                       'peak_scan': 43810,\n",
       "                                       'rt': (31.51408195, 31.72900009)}),\n",
       "                          'COVARIS_50_ctr_4': defaultdict(str,\n",
       "                                      {'corr': 0.9983503819,\n",
       "                                       'peak_scan': 43660,\n",
       "                                       'rt': (31.34759521, 31.56228638)}),\n",
       "                          'COVARIS_50_ctr_5': defaultdict(str,\n",
       "                                      {'corr': 0.9972648025,\n",
       "                                       'peak_scan': 43710,\n",
       "                                       'rt': (31.40292549, 31.61755562)}),\n",
       "                          'COVARIS_50_ctr_6': defaultdict(str,\n",
       "                                      {'corr': 0.997132957,\n",
       "                                       'peak_scan': 43960,\n",
       "                                       'rt': (31.62008095, 31.8348484)}),\n",
       "                          'COVARIS_50_ctr_8': defaultdict(str,\n",
       "                                      {'corr': 0.9032071233,\n",
       "                                       'peak_scan': 43960,\n",
       "                                       'rt': (31.65151215, 31.86680412)}),\n",
       "                          'COVARIS_50_hyp_1': defaultdict(str,\n",
       "                                      {'corr': 0.9346390367,\n",
       "                                       'peak_scan': 44260,\n",
       "                                       'rt': (31.96682358, 32.18527603)}),\n",
       "                          'COVARIS_50_hyp_2': defaultdict(str,\n",
       "                                      {'corr': 0.9941946864,\n",
       "                                       'peak_scan': 43910,\n",
       "                                       'rt': (31.62849617, 31.84386253)}),\n",
       "                          'COVARIS_50_hyp_5': defaultdict(str,\n",
       "                                      {'corr': 0.9947888255,\n",
       "                                       'peak_scan': 43910,\n",
       "                                       'rt': (31.66135979, 31.87649155)}),\n",
       "                          'COVARIS_50_hyp_6': defaultdict(str,\n",
       "                                      {'corr': 0.9977484941,\n",
       "                                       'peak_scan': 43910,\n",
       "                                       'rt': (31.65780449, 31.87357521)}),\n",
       "                          'COVARIS_50_hyp_7': defaultdict(str,\n",
       "                                      {'corr': 0.9988361597,\n",
       "                                       'peak_scan': 44010,\n",
       "                                       'rt': (31.74237251, 31.95809174)}),\n",
       "                          'COVARIS_50_rep_1': defaultdict(str,\n",
       "                                      {'corr': 0.9845536947,\n",
       "                                       'peak_scan': 44460,\n",
       "                                       'rt': (32.03104782, 32.24918365)}),\n",
       "                          'COVARIS_50_rep_2': defaultdict(str,\n",
       "                                      {'corr': 0.9941192269,\n",
       "                                       'peak_scan': 44160,\n",
       "                                       'rt': (31.76026344, 31.97554588)}),\n",
       "                          'COVARIS_50_rep_4': defaultdict(str,\n",
       "                                      {'corr': 0.0,\n",
       "                                       'peak_scan': 44210,\n",
       "                                       'rt': (31.83810043, 32.05356216)}),\n",
       "                          'COVARIS_50_rep_5': defaultdict(str,\n",
       "                                      {'corr': 0.7229059339,\n",
       "                                       'peak_scan': 43960,\n",
       "                                       'rt': (31.6831913, 31.89830971)}),\n",
       "                          'COVARIS_50_rep_6': defaultdict(str,\n",
       "                                      {'corr': 0.9970647693,\n",
       "                                       'peak_scan': 43760,\n",
       "                                       'rt': (31.51694489, 31.73215675)}),\n",
       "                          'COVARIS_50_rep_7': defaultdict(str,\n",
       "                                      {'corr': 0.9794312716,\n",
       "                                       'peak_scan': 43860,\n",
       "                                       'rt': (31.57585526, 31.79066849)})}),\n",
       "             'LLCGLLAERLR': defaultdict(<function __main__.<dictcomp>.<lambda>.<locals>.<lambda>()>,\n",
       "                         {'COVARIS_50_ctr_3': defaultdict(str,\n",
       "                                      {'corr': 0.9052426815,\n",
       "                                       'peak_scan': 44303,\n",
       "                                       'rt': (31.86818314, 32.08317947)}),\n",
       "                          'COVARIS_50_ctr_4': defaultdict(str,\n",
       "                                      {'corr': 0.9795005322,\n",
       "                                       'peak_scan': 44153,\n",
       "                                       'rt': (31.70131874, 31.91875648)}),\n",
       "                          'COVARIS_50_ctr_5': defaultdict(str,\n",
       "                                      {'corr': 0.98452425,\n",
       "                                       'peak_scan': 44203,\n",
       "                                       'rt': (31.75657845, 31.97428131)})}),\n",
       "             'PMFIVNTNVPR': defaultdict(<function __main__.<dictcomp>.<lambda>.<locals>.<lambda>()>,\n",
       "                         {'COVARIS_50_ctr_2': defaultdict(str,\n",
       "                                      {'corr': 0.7485396862,\n",
       "                                       'peak_scan': 42770,\n",
       "                                       'rt': (30.79567909, 31.01131058)}),\n",
       "                          'COVARIS_50_ctr_3': defaultdict(str,\n",
       "                                      {'corr': 0.9716593027,\n",
       "                                       'peak_scan': 42720,\n",
       "                                       'rt': (30.73111153, 30.94619179)}),\n",
       "                          'COVARIS_50_ctr_4': defaultdict(str,\n",
       "                                      {'corr': 0.9549387693,\n",
       "                                       'peak_scan': 42570,\n",
       "                                       'rt': (30.56334686, 30.78107452)}),\n",
       "                          'COVARIS_50_ctr_5': defaultdict(str,\n",
       "                                      {'corr': 0.9769995213,\n",
       "                                       'peak_scan': 42620,\n",
       "                                       'rt': (30.62050438, 30.83550262)}),\n",
       "                          'COVARIS_50_ctr_6': defaultdict(str,\n",
       "                                      {'corr': 0.9770431519,\n",
       "                                       'peak_scan': 42920,\n",
       "                                       'rt': (30.87036324, 31.08559036)}),\n",
       "                          'COVARIS_50_hyp_1': defaultdict(str,\n",
       "                                      {'corr': 0.8673013449,\n",
       "                                       'peak_scan': 43120,\n",
       "                                       'rt': (31.14567375, 31.36130714)}),\n",
       "                          'COVARIS_50_hyp_2': defaultdict(str,\n",
       "                                      {'corr': 0.9844356775,\n",
       "                                       'peak_scan': 42820,\n",
       "                                       'rt': (30.84191704, 31.05778313)}),\n",
       "                          'COVARIS_50_hyp_5': defaultdict(str,\n",
       "                                      {'corr': 0.863663435,\n",
       "                                       'peak_scan': 42870,\n",
       "                                       'rt': (30.91025543, 31.12888718)}),\n",
       "                          'COVARIS_50_hyp_6': defaultdict(str,\n",
       "                                      {'corr': 0.982716918,\n",
       "                                       'peak_scan': 42820,\n",
       "                                       'rt': (30.86911201, 31.08545303)}),\n",
       "                          'COVARIS_50_hyp_7': defaultdict(str,\n",
       "                                      {'corr': 0.9635024071,\n",
       "                                       'peak_scan': 42970,\n",
       "                                       'rt': (30.99068832, 31.20660973)}),\n",
       "                          'COVARIS_50_rep_2': defaultdict(str,\n",
       "                                      {'corr': 0.9944936633,\n",
       "                                       'peak_scan': 43120,\n",
       "                                       'rt': (31.01298332, 31.22848701)}),\n",
       "                          'COVARIS_50_rep_6': defaultdict(str,\n",
       "                                      {'corr': 0.9323467016,\n",
       "                                       'peak_scan': 42670,\n",
       "                                       'rt': (30.73123169, 30.9466114)}),\n",
       "                          'COVARIS_50_rep_7': defaultdict(str,\n",
       "                                      {'corr': 0.986230433,\n",
       "                                       'peak_scan': 42820,\n",
       "                                       'rt': (30.82616806, 31.0414505)})}),\n",
       "             'SYSKLLCGLLAER': defaultdict(<function __main__.<dictcomp>.<lambda>.<locals>.<lambda>()>,\n",
       "                         {'COVARIS_50_ctr_4': defaultdict(str,\n",
       "                                      {'corr': 0.9968781471,\n",
       "                                       'peak_scan': 47858,\n",
       "                                       'rt': (34.36085129, 34.57562637)}),\n",
       "                          'COVARIS_50_ctr_5': defaultdict(str,\n",
       "                                      {'corr': 0.974363625,\n",
       "                                       'peak_scan': 47808,\n",
       "                                       'rt': (34.34708023, 34.56187439)}),\n",
       "                          'COVARIS_50_ctr_6': defaultdict(str,\n",
       "                                      {'corr': 0.9636334777,\n",
       "                                       'peak_scan': 48058,\n",
       "                                       'rt': (34.56740189, 34.78299332)}),\n",
       "                          'COVARIS_50_ctr_2': defaultdict(str,\n",
       "                                      {'corr': 0.7061840296,\n",
       "                                       'peak_scan': 48008,\n",
       "                                       'rt': (34.57048798, 34.78632355)}),\n",
       "                          'COVARIS_50_ctr_3': defaultdict(str,\n",
       "                                      {'corr': 0.9480466247,\n",
       "                                       'peak_scan': 47908,\n",
       "                                       'rt': (34.45889664, 34.6765976)}),\n",
       "                          'COVARIS_50_hyp_2': defaultdict(str,\n",
       "                                      {'corr': 0.94866395,\n",
       "                                       'peak_scan': 48058,\n",
       "                                       'rt': (34.61717224, 34.83288193)}),\n",
       "                          'COVARIS_50_hyp_5': defaultdict(str,\n",
       "                                      {'corr': 0.8892078996,\n",
       "                                       'peak_scan': 48058,\n",
       "                                       'rt': (34.65021515, 34.86609268)}),\n",
       "                          'COVARIS_50_rep_6': defaultdict(str,\n",
       "                                      {'corr': 0.9795565009,\n",
       "                                       'peak_scan': 48008,\n",
       "                                       'rt': (34.57366562, 34.78903961)}),\n",
       "                          'COVARIS_50_rep_7': defaultdict(str,\n",
       "                                      {'corr': 0.9513622522,\n",
       "                                       'peak_scan': 48158,\n",
       "                                       'rt': (34.66707993, 34.88235855)})})})"
      ]
     },
     "execution_count": 20,
     "metadata": {},
     "output_type": "execute_result"
    }
   ],
   "source": [
    "res['ENST00000215754-1']"
   ]
  },
  {
   "cell_type": "code",
   "execution_count": 33,
   "metadata": {},
   "outputs": [],
   "source": [
    "run, pg, pep, ms_scan = row"
   ]
  },
  {
   "cell_type": "code",
   "execution_count": null,
   "metadata": {},
   "outputs": [],
   "source": []
  }
 ],
 "metadata": {
  "kernelspec": {
   "display_name": "stats",
   "language": "python",
   "name": "python3"
  },
  "language_info": {
   "codemirror_mode": {
    "name": "ipython",
    "version": 3
   },
   "file_extension": ".py",
   "mimetype": "text/x-python",
   "name": "python",
   "nbconvert_exporter": "python",
   "pygments_lexer": "ipython3",
   "version": "3.11.7"
  }
 },
 "nbformat": 4,
 "nbformat_minor": 2
}
