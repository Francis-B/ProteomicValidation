{
 "cells": [
  {
   "cell_type": "code",
   "execution_count": 32,
   "metadata": {},
   "outputs": [],
   "source": [
    "import os\n",
    "import numpy as np\n",
    "import pandas as pd\n",
    "import pyopenms as ms\n",
    "\n",
    "import matplotlib.pyplot as plt"
   ]
  },
  {
   "cell_type": "code",
   "execution_count": 37,
   "metadata": {},
   "outputs": [
    {
     "data": {
      "text/plain": [
       "'/home/francis/Documents/FomoNet/scripts/notebook'"
      ]
     },
     "execution_count": 37,
     "metadata": {},
     "output_type": "execute_result"
    }
   ],
   "source": [
    "os.getcwd()"
   ]
  },
  {
   "cell_type": "code",
   "execution_count": 10,
   "metadata": {},
   "outputs": [],
   "source": [
    "MZML = r'/home/francis/Documents/FomoNet/data/mzml/COVARIS_50_ctr_1.mzML'\n",
    "\n",
    "exp = ms.MSExperiment()\n",
    "ms.MzMLFile().load(MZML, exp)\n"
   ]
  },
  {
   "cell_type": "code",
   "execution_count": 23,
   "metadata": {},
   "outputs": [],
   "source": [
    "df = exp.get_df()"
   ]
  },
  {
   "cell_type": "code",
   "execution_count": 30,
   "metadata": {},
   "outputs": [],
   "source": [
    "x = df.mzarray[0]\n",
    "y = df.intarray[0]"
   ]
  },
  {
   "cell_type": "code",
   "execution_count": 31,
   "metadata": {},
   "outputs": [
    {
     "data": {
      "text/plain": [
       "[<matplotlib.lines.Line2D at 0x7fa80b727b90>]"
      ]
     },
     "execution_count": 31,
     "metadata": {},
     "output_type": "execute_result"
    },
    {
     "data": {
      "image/png": "[encoded data removed]",
      "text/plain": [
       "<Figure size 640x480 with 1 Axes>"
      ]
     },
     "metadata": {},
     "output_type": "display_data"
    }
   ],
   "source": [
    "plt.plot(x, y)"
   ]
  },
  {
   "cell_type": "code",
   "execution_count": 34,
   "metadata": {},
   "outputs": [],
   "source": [
    "QUANT = \"/home/francis/Documents/FomoNet/results/msstats_quant.tsv\"\n",
    "\n",
    "with open(QUANT) as f:\n",
    "    df = pd.read_csv(f, sep=\"\\t\")"
   ]
  },
  {
   "cell_type": "code",
   "execution_count": 35,
   "metadata": {},
   "outputs": [
    {
     "data": {
      "text/plain": [
       "Index(['RUN', 'Protein', 'LogIntensities', 'originalRUN', 'GROUP', 'SUBJECT',\n",
       "       'TotalGroupMeasurements', 'NumMeasuredFeature', 'MissingPercentage',\n",
       "       'more50missing', 'NumImputedFeature'],\n",
       "      dtype='object')"
      ]
     },
     "execution_count": 35,
     "metadata": {},
     "output_type": "execute_result"
    }
   ],
   "source": [
    "df.columns"
   ]
  },
  {
   "cell_type": "code",
   "execution_count": 36,
   "metadata": {},
   "outputs": [
    {
     "data": {
      "text/html": [
       "<div>\n",
       "<style scoped>\n",
       "    .dataframe tbody tr th:only-of-type {\n",
       "        vertical-align: middle;\n",
       "    }\n",
       "\n",
       "    .dataframe tbody tr th {\n",
       "        vertical-align: top;\n",
       "    }\n",
       "\n",
       "    .dataframe thead th {\n",
       "        text-align: right;\n",
       "    }\n",
       "</style>\n",
       "<table border=\"1\" class=\"dataframe\">\n",
       "  <thead>\n",
       "    <tr style=\"text-align: right;\">\n",
       "      <th></th>\n",
       "      <th>RUN</th>\n",
       "      <th>Protein</th>\n",
       "      <th>LogIntensities</th>\n",
       "      <th>originalRUN</th>\n",
       "      <th>GROUP</th>\n",
       "      <th>SUBJECT</th>\n",
       "      <th>TotalGroupMeasurements</th>\n",
       "      <th>NumMeasuredFeature</th>\n",
       "      <th>MissingPercentage</th>\n",
       "      <th>more50missing</th>\n",
       "      <th>NumImputedFeature</th>\n",
       "    </tr>\n",
       "  </thead>\n",
       "  <tbody>\n",
       "    <tr>\n",
       "      <th>0</th>\n",
       "      <td>3</td>\n",
       "      <td>ENST00000000233;ENST00000256682;ENST0000027210...</td>\n",
       "      <td>15.078902</td>\n",
       "      <td>COVARIS_50_ctr_3</td>\n",
       "      <td>ctr</td>\n",
       "      <td>3</td>\n",
       "      <td>24</td>\n",
       "      <td>6</td>\n",
       "      <td>0.000000</td>\n",
       "      <td>False</td>\n",
       "      <td>0</td>\n",
       "    </tr>\n",
       "    <tr>\n",
       "      <th>1</th>\n",
       "      <td>4</td>\n",
       "      <td>ENST00000000233;ENST00000256682;ENST0000027210...</td>\n",
       "      <td>16.115643</td>\n",
       "      <td>COVARIS_50_ctr_4</td>\n",
       "      <td>ctr</td>\n",
       "      <td>4</td>\n",
       "      <td>24</td>\n",
       "      <td>6</td>\n",
       "      <td>0.000000</td>\n",
       "      <td>False</td>\n",
       "      <td>0</td>\n",
       "    </tr>\n",
       "    <tr>\n",
       "      <th>2</th>\n",
       "      <td>5</td>\n",
       "      <td>ENST00000000233;ENST00000256682;ENST0000027210...</td>\n",
       "      <td>15.319994</td>\n",
       "      <td>COVARIS_50_ctr_5</td>\n",
       "      <td>ctr</td>\n",
       "      <td>5</td>\n",
       "      <td>24</td>\n",
       "      <td>6</td>\n",
       "      <td>0.000000</td>\n",
       "      <td>False</td>\n",
       "      <td>0</td>\n",
       "    </tr>\n",
       "    <tr>\n",
       "      <th>3</th>\n",
       "      <td>6</td>\n",
       "      <td>ENST00000000233;ENST00000256682;ENST0000027210...</td>\n",
       "      <td>15.286220</td>\n",
       "      <td>COVARIS_50_ctr_6</td>\n",
       "      <td>ctr</td>\n",
       "      <td>6</td>\n",
       "      <td>24</td>\n",
       "      <td>6</td>\n",
       "      <td>0.000000</td>\n",
       "      <td>False</td>\n",
       "      <td>0</td>\n",
       "    </tr>\n",
       "    <tr>\n",
       "      <th>4</th>\n",
       "      <td>1</td>\n",
       "      <td>ENST00000000233;ENST00000415666</td>\n",
       "      <td>13.038085</td>\n",
       "      <td>COVARIS_50_ctr_1</td>\n",
       "      <td>ctr</td>\n",
       "      <td>1</td>\n",
       "      <td>36</td>\n",
       "      <td>2</td>\n",
       "      <td>0.666667</td>\n",
       "      <td>True</td>\n",
       "      <td>4</td>\n",
       "    </tr>\n",
       "  </tbody>\n",
       "</table>\n",
       "</div>"
      ],
      "text/plain": [
       "   RUN                                            Protein  LogIntensities  \\\n",
       "0    3  ENST00000000233;ENST00000256682;ENST0000027210...       15.078902   \n",
       "1    4  ENST00000000233;ENST00000256682;ENST0000027210...       16.115643   \n",
       "2    5  ENST00000000233;ENST00000256682;ENST0000027210...       15.319994   \n",
       "3    6  ENST00000000233;ENST00000256682;ENST0000027210...       15.286220   \n",
       "4    1                    ENST00000000233;ENST00000415666       13.038085   \n",
       "\n",
       "        originalRUN GROUP  SUBJECT  TotalGroupMeasurements  \\\n",
       "0  COVARIS_50_ctr_3   ctr        3                      24   \n",
       "1  COVARIS_50_ctr_4   ctr        4                      24   \n",
       "2  COVARIS_50_ctr_5   ctr        5                      24   \n",
       "3  COVARIS_50_ctr_6   ctr        6                      24   \n",
       "4  COVARIS_50_ctr_1   ctr        1                      36   \n",
       "\n",
       "   NumMeasuredFeature  MissingPercentage  more50missing  NumImputedFeature  \n",
       "0                   6           0.000000          False                  0  \n",
       "1                   6           0.000000          False                  0  \n",
       "2                   6           0.000000          False                  0  \n",
       "3                   6           0.000000          False                  0  \n",
       "4                   2           0.666667           True                  4  "
      ]
     },
     "execution_count": 36,
     "metadata": {},
     "output_type": "execute_result"
    }
   ],
   "source": [
    "df.head()"
   ]
  },
  {
   "cell_type": "code",
   "execution_count": null,
   "metadata": {},
   "outputs": [],
   "source": []
  }
 ],
 "metadata": {
  "kernelspec": {
   "display_name": "ms",
   "language": "python",
   "name": "python3"
  },
  "language_info": {
   "codemirror_mode": {
    "name": "ipython",
    "version": 3
   },
   "file_extension": ".py",
   "mimetype": "text/x-python",
   "name": "python",
   "nbconvert_exporter": "python",
   "pygments_lexer": "ipython3",
   "version": "3.11.7"
  }
 },
 "nbformat": 4,
 "nbformat_minor": 2
}
